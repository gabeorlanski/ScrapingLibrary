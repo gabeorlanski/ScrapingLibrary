{
 "cells": [
  {
   "cell_type": "code",
   "execution_count": 83,
   "metadata": {},
   "outputs": [],
   "source": [
    "import json\n",
    "from nltk.tokenize import sent_tokenize, word_tokenize\n",
    "from nltk.corpus import stopwords\n",
    "from collections import defaultdict\n",
    "from ebaysdk.shopping import Connection as Shopping\n",
    "shopping = Shopping(appid='GabrielO-Flipper-PRD-6246ab075-45501e29', config_file='ebay.yaml')\n",
    "import json\n",
    "import os\n",
    "x = json.loads(open(\"test_data.json\").read())\n",
    "q = {}\n",
    "items = {}\n",
    "items_by_search = defaultdict(dict)\n",
    "titles_by_search = defaultdict(list)\n",
    "titles = []\n",
    "long_titles = []\n",
    "\n",
    "for k in list(x.keys()):\n",
    "    y = x[k][\"listings\"]\n",
    "    search = k.split(\"_pg\")[0]\n",
    "    \n",
    "    for i in y.keys():\n",
    "        children = y[i][\"children\"][0]\n",
    "        title = \"\"\n",
    "        link = \"\"\n",
    "        price = 0\n",
    "        measurements = {}\n",
    "        quantity = {}\n",
    "        pid = []\n",
    "        for c in children.keys():\n",
    "            if \"title\" in c:\n",
    "                title = children[c][\"title\"]\n",
    "                title = title.replace(\"\\n\",\"\").replace(\"\\t\",\"\")\n",
    "                if \"new listing\" in title.lower():\n",
    "                    title = \" \".join(title.split()[2:])\n",
    "                    \n",
    "                tmp_measure = {}\n",
    "                for m in children[c][\"measurements\"].keys():\n",
    "                    tmp_measure[m] = list(set(children[c][\"measurements\"][m]))\n",
    "                measurements =tmp_measure\n",
    "                title_short = children[c][\"title_shortened\"]\n",
    "                quan_tmp = defaultdict(list)\n",
    "                for quan in children[c][\"quantity\"].keys():\n",
    "                    quan_tmp[quan].append(children[c][\"quantity\"][quan])\n",
    "                        \n",
    "                quantity = dict(quan_tmp)\n",
    "                pid = children[c][\"product_ids\"]\n",
    "            elif \"url\" in c:\n",
    "                link = children[c][\"link\"]\n",
    "            else:\n",
    "                price = children[c][\"price\"]\n",
    "        e_id = link.split(r\"/\")[-1].split(\"?\")[0]\n",
    "        if title != \"ELEM_MEMBER_TEXT_NONE\" and title != \"new listing\":\n",
    "            long_titles.append(title)\n",
    "            titles.append(title_short)\n",
    "            items[\"item_\"+str(e_id)] = {\"quantity\":quantity,\"measurements\":measurements,\"price\":price,\"title_short\":title_short,\"title\":title,\"link\":link,\"eid\":e_id,\"pid\":pid}\n",
    "            items_by_search[search][\"item_\"+str(e_id)] = items[\"item_\"+str(e_id)]\n",
    "            titles_by_search[search].append(title)\n",
    "\n",
    "import datetime\n",
    "current_date = datetime.date.today().strftime(\"%B %d %Y\")\n",
    "path_to_date = os.path.join(os.getcwd()+r\"\\data\", current_date)\n",
    "if not os.path.isdir(path_to_date):\n",
    "    os.mkdir(path_to_date)\n",
    "items_by_search = dict(items_by_search)\n",
    "current_time = datetime.datetime.now().strftime(\"%I%p\")\n",
    "for i in items_by_search.keys():\n",
    "    with open(path_to_date+\"\\\\\"+i+\".json\",\"w\", encoding='utf-8') as f:\n",
    "        f.write(json.dumps(items_by_search[i], indent=4, sort_keys=True))\n",
    "    with open(os.getcwd() + r\"\\parsed_data\"+\"\\\\\"+i+\".json\",\"w\", encoding='utf-8') as f:\n",
    "        f.write(json.dumps(items, indent=4, sort_keys=True))\n",
    "    with open(os.getcwd() + r\"\\parsed_data\"+\"\\\\\"+i+\".txt\",\"w\", encoding='utf-8') as f:\n",
    "        for t in titles_by_search[i]:\n",
    "            f.write(t.strip()+\"\\n\")"
   ]
  },
  {
   "cell_type": "code",
   "execution_count": 82,
   "metadata": {
    "scrolled": true
   },
   "outputs": [
    {
     "data": {
      "text/plain": [
       "dict_keys(['choppers'])"
      ]
     },
     "execution_count": 82,
     "metadata": {},
     "output_type": "execute_result"
    }
   ],
   "source": [
    "items_by_search.keys()"
   ]
  },
  {
   "cell_type": "code",
   "execution_count": 53,
   "metadata": {},
   "outputs": [
    {
     "data": {
      "text/plain": [
       "'02PM'"
      ]
     },
     "execution_count": 53,
     "metadata": {},
     "output_type": "execute_result"
    }
   ],
   "source": [
    "current_time"
   ]
  },
  {
   "cell_type": "code",
   "execution_count": null,
   "metadata": {},
   "outputs": [],
   "source": []
  }
 ],
 "metadata": {
  "kernelspec": {
   "display_name": "Python 3",
   "language": "python",
   "name": "python3"
  },
  "language_info": {
   "codemirror_mode": {
    "name": "ipython",
    "version": 3
   },
   "file_extension": ".py",
   "mimetype": "text/x-python",
   "name": "python",
   "nbconvert_exporter": "python",
   "pygments_lexer": "ipython3",
   "version": "3.6.4"
  }
 },
 "nbformat": 4,
 "nbformat_minor": 2
}
