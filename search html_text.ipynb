{
 "cells": [
  {
   "cell_type": "code",
   "execution_count": 2,
   "metadata": {
    "collapsed": true
   },
   "outputs": [],
   "source": [
    "import os\n",
    "import sys\n",
    "basic_html = open(os.getcwd()+r'\\tests\\instruction_test_html\\basic_call.html').read()"
   ]
  },
  {
   "cell_type": "code",
   "execution_count": 11,
   "metadata": {},
   "outputs": [
    {
     "name": "stdout",
     "output_type": "stream",
     "text": [
      "<html>\n",
      "<style>\n",
      "    div.intro {\n",
      "        color: blue;\n",
      "    }\n",
      "\n",
      "    div.outro {\n",
      "        color: red;\n",
      "    }\n",
      "    h1.important {\n",
      "        color: green;\n",
      "    }\n",
      "\n",
      "    h1.child_multi {\n",
      "        color: yellow;\n",
      "    }\n",
      "</style>\n",
      "</head>\n",
      "<body>\n",
      "<p class=\"step_1\">&lt;p>Test Basic&lt;/p>\n",
      "<div class=\"intro\">\n",
      "    Parent\n",
      "    <h1 class=\"important\">Child</h1>\n",
      "</div>\n",
      "<div class=\"outro\">\n",
      "    Multi Number 1\n",
      "    <h1 class=\"child_multi\">Child Number 1</h1>\n",
      "    <h1 class=\"child_multi\">Child Number 1 2</h1>\n",
      "</div>\n",
      "<div class=\"outro\">\n",
      "    Multi Number 2\n",
      "    <h1 class=\"child_multi\">Child Number 2</h1>\n",
      "</div>\n",
      "<a href=\"www.reddit.com\"></a>\n",
      "</body>\n",
      "\n",
      "</html>\n"
     ]
    }
   ],
   "source": [
    "print(basic_html.replace('<p>Test Basic</p>','<p class=\"step_1\">&lt;p>Test Basic&lt;/p>').strip(\"\\n\"))"
   ]
  },
  {
   "cell_type": "code",
   "execution_count": 6,
   "metadata": {},
   "outputs": [
    {
     "data": {
      "text/plain": [
       "'<html>\\n<style>\\n    div.intro {\\n        color: blue;\\n    }\\n\\n    div.outro {\\n        color: red;\\n    }\\n    h1.important {\\n        color: green;\\n    }\\n\\n    h1.child_multi {\\n        color: yellow;\\n    }\\n</style>\\n</head>\\n<body>\\n<p>Test Basic</p>\\n<div class=\"intro\">\\n    Parent\\n    <h1 class=\"important\">Child</h1>\\n</div>\\n<div class=\"outro\">\\n    Multi Number 1\\n    <h1 class=\"child_multi\">Child Number 1</h1>\\n    <h1 class=\"child_multi\">Child Number 1 2</h1>\\n</div>\\n<div class=\"outro\">\\n    Multi Number 2\\n    <h1 class=\"child_multi\">Child Number 2</h1>\\n</div>\\n<a href=\"www.reddit.com\"></a>\\n</body>\\n\\n</html>'"
      ]
     },
     "execution_count": 6,
     "metadata": {},
     "output_type": "execute_result"
    }
   ],
   "source": [
    "basic_html"
   ]
  },
  {
   "cell_type": "code",
   "execution_count": null,
   "metadata": {
    "collapsed": true
   },
   "outputs": [],
   "source": []
  }
 ],
 "metadata": {
  "kernelspec": {
   "display_name": "Python 3",
   "language": "python",
   "name": "python3"
  },
  "language_info": {
   "codemirror_mode": {
    "name": "ipython",
    "version": 3
   },
   "file_extension": ".py",
   "mimetype": "text/x-python",
   "name": "python",
   "nbconvert_exporter": "python",
   "pygments_lexer": "ipython3",
   "version": "3.6.3"
  }
 },
 "nbformat": 4,
 "nbformat_minor": 2
}
