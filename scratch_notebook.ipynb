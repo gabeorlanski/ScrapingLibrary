{
 "cells": [
  {
   "cell_type": "code",
   "execution_count": 1,
   "metadata": {},
   "outputs": [],
   "source": [
    "import json\n",
    "from nltk.tokenize import sent_tokenize, word_tokenize\n",
    "from nltk.corpus import stopwords\n",
    "from collections import defaultdict\n",
    "from ebaysdk.shopping import Connection as Shopping\n",
    "shopping = Shopping(appid='GabrielO-Flipper-PRD-6246ab075-45501e29', config_file='ebay.yaml')\n",
    "import json\n",
    "x = json.loads(open(\"test_data.json\").read())\n",
    "q = {}\n",
    "links_huge = defaultdict(dict)\n",
    "links=[]\n",
    "just_titles = []"
   ]
  },
  {
   "cell_type": "code",
   "execution_count": 2,
   "metadata": {
    "scrolled": false
   },
   "outputs": [],
   "source": [
    "spec = set()\n",
    "for k in list(x.keys()):\n",
    "    y = x[k][\"listings\"]\n",
    "    #num_results = y[\"num_results\"]\n",
    "    \n",
    "    for i in y.keys():\n",
    "        children = y[i][\"children\"][0]\n",
    "        title = \"\"\n",
    "        link = \"\"\n",
    "        price = 0\n",
    "        for c in children.keys():\n",
    "            if \"title\" in c:\n",
    "                if children[c][\"title\"] != \"ELEM_MEMBER_TEXT_NONE\":\n",
    "                    title = children[c][\"title\"]\n",
    "            elif \"url\" in c:\n",
    "                link = children[c][\"link\"]\n",
    "            else:\n",
    "                price = children[c][\"price\"]\n",
    "        e_id = link.split(r\"/\")[-1].split(\"?\")[0]\n",
    "       \n",
    "        #try:\n",
    "            #item = shopping.execute(\"GetSingleItem\",{\"ItemID\":e_id,\"IncludeSelector\":\"ItemSpecifics,TextDescription\"}).dict()\n",
    "            #specifics = item[\"Item\"][\"Description\"]\n",
    "        #except:\n",
    "            #pass\n",
    "        #try:\n",
    "            \n",
    "            #links.append(title+\" \" +\" \".join([x[\"Name\"] + \" \" + x[\"Value\"] for x in item[\"Item\"][\"ItemSpecifics\"][\"NameValueList\"]]).strip())\n",
    "            #[spec.add(x[\"Name\"]) for x in item[\"Item\"][\"ItemSpecifics\"][\"NameValueList\"]]\n",
    "        #except:\n",
    "        links.append(title)\n",
    "            \n",
    "        just_titles.append(title)\n",
    "    #with open(k+\".txt\",\"w\") as f:\n",
    "        #for i in links:\n",
    "            #f.write(i+\"\\n\")"
   ]
  },
  {
   "cell_type": "code",
   "execution_count": 3,
   "metadata": {},
   "outputs": [],
   "source": [
    "with open(\"lcd_rpi.txt\",\"w\", encoding='utf-8') as f:\n",
    "    for i in links:\n",
    "        f.write(i+\"\\n\")"
   ]
  },
  {
   "cell_type": "code",
   "execution_count": 4,
   "metadata": {},
   "outputs": [],
   "source": [
    "with open(\"microchip_test.txt\",\"w\", encoding='utf-8') as f:\n",
    "    #f.write(json.dumps(links_huge, indent=4, sort_keys=True))\n",
    "    for i in just_titles:\n",
    "        f.write(i.strip()+\"\\n\")"
   ]
  },
  {
   "cell_type": "code",
   "execution_count": 9,
   "metadata": {},
   "outputs": [
    {
     "data": {
      "text/plain": [
       "'Dual Band 2.4/5Ghz 1200Mbps Wireless WiFi Network USB Adapter w/Antenna 802.11AC'"
      ]
     },
     "execution_count": 9,
     "metadata": {},
     "output_type": "execute_result"
    }
   ],
   "source": [
    "links[0]"
   ]
  },
  {
   "cell_type": "code",
   "execution_count": null,
   "metadata": {},
   "outputs": [],
   "source": []
  }
 ],
 "metadata": {
  "kernelspec": {
   "display_name": "Python 3",
   "language": "python",
   "name": "python3"
  },
  "language_info": {
   "codemirror_mode": {
    "name": "ipython",
    "version": 3
   },
   "file_extension": ".py",
   "mimetype": "text/x-python",
   "name": "python",
   "nbconvert_exporter": "python",
   "pygments_lexer": "ipython3",
   "version": "3.6.4"
  }
 },
 "nbformat": 4,
 "nbformat_minor": 2
}
