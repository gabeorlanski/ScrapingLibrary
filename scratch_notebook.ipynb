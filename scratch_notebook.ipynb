{
 "cells": [
  {
   "cell_type": "code",
   "execution_count": 23,
   "metadata": {
    "collapsed": false
   },
   "outputs": [],
   "source": [
    "import json\n",
    "from nltk.tokenize import sent_tokenize, word_tokenize\n",
    "from nltk.corpus import stopwords\n",
    "from collections import defaultdict\n",
    "import json\n",
    "x = json.loads(open(\"test_data.json\").read())\n",
    "q = {}\n",
    "links_huge = defaultdict(dict)"
   ]
  },
  {
   "cell_type": "code",
   "execution_count": 24,
   "metadata": {
    "collapsed": false,
    "scrolled": false
   },
   "outputs": [],
   "source": [
    "for k in x.keys():\n",
    "    y = x[k][\"listings\"]\n",
    "    num_results = y[\"num_results\"]\n",
    "    links=[]\n",
    "    for i in range(1,num_results):\n",
    "        children = y[\"result_\"+str(i)][\"children\"][0]\n",
    "        title = \"\"\n",
    "        price = 0\n",
    "        for c in children.keys():\n",
    "            if \"title\" in c:\n",
    "                if children[c][\"title\"] != \"ELEM_MEMBER_TEXT_NONE\":\n",
    "                    title = children[c][\"title\"]\n",
    "            else:\n",
    "                price = children[c][\"price\"]\n",
    "        links_huge[k][title] = {\"price\":price}\n",
    "    #with open(k+\".txt\",\"w\") as f:\n",
    "        #for i in links:\n",
    "            #f.write(i+\"\\n\")"
   ]
  },
  {
   "cell_type": "code",
   "execution_count": 26,
   "metadata": {
    "collapsed": false
   },
   "outputs": [],
   "source": [
    "with open(\"test_data_out.json\",\"w\") as f:\n",
    "    f.write(json.dumps(links_huge, indent=4, sort_keys=True))"
   ]
  },
  {
   "cell_type": "code",
   "execution_count": 25,
   "metadata": {
    "collapsed": false
   },
   "outputs": [
    {
     "data": {
      "text/plain": [
       "48"
      ]
     },
     "execution_count": 25,
     "metadata": {},
     "output_type": "execute_result"
    }
   ],
   "source": [
    "len(links_huge)"
   ]
  },
  {
   "cell_type": "code",
   "execution_count": null,
   "metadata": {
    "collapsed": true
   },
   "outputs": [],
   "source": []
  }
 ],
 "metadata": {
  "kernelspec": {
   "display_name": "Python 3",
   "language": "python",
   "name": "python3"
  },
  "language_info": {
   "codemirror_mode": {
    "name": "ipython",
    "version": 3
   },
   "file_extension": ".py",
   "mimetype": "text/x-python",
   "name": "python",
   "nbconvert_exporter": "python",
   "pygments_lexer": "ipython3",
   "version": "3.5.1"
  }
 },
 "nbformat": 4,
 "nbformat_minor": 2
}
