{
 "cells": [
  {
   "cell_type": "code",
   "execution_count": 6,
   "metadata": {},
   "outputs": [],
   "source": [
    "import json\n",
    "from nltk.tokenize import sent_tokenize, word_tokenize\n",
    "from nltk.corpus import stopwords\n",
    "from collections import defaultdict\n",
    "from ebaysdk.shopping import Connection as Shopping\n",
    "shopping = Shopping(appid='GabrielO-Flipper-PRD-6246ab075-45501e29', config_file='ebay.yaml')\n",
    "import json\n",
    "import os\n",
    "x = json.loads(open(\"test_data.json\").read())\n",
    "q = {}\n",
    "items = {}\n",
    "items_by_search = defaultdict(dict)\n",
    "titles = []\n",
    "long_titles = []"
   ]
  },
  {
   "cell_type": "code",
   "execution_count": 10,
   "metadata": {},
   "outputs": [],
   "source": [
    "for k in list(x.keys()):\n",
    "    y = x[k][\"listings\"]\n",
    "    try:\n",
    "        search = k.split(\"_pg\")[0]\n",
    "    except:\n",
    "        search = k\n",
    "    for i in y.keys():\n",
    "        children = y[i][\"children\"][0]\n",
    "        title = \"\"\n",
    "        link = \"\"\n",
    "        price = 0\n",
    "        measurements = {}\n",
    "        quantity = {}\n",
    "        pid = []\n",
    "        for c in children.keys():\n",
    "            if \"title\" in c:\n",
    "                title = children[c][\"title\"]\n",
    "                title = title.replace(\"\\n\",\"\").replace(\"\\t\",\"\")\n",
    "                if \"new listing\" in title.lower():\n",
    "                    title = \" \".join(title.split()[2:])\n",
    "                    \n",
    "                tmp_measure = {}\n",
    "                for m in children[c][\"measurements\"].keys():\n",
    "                    tmp_measure[m] = list(set(children[c][\"measurements\"][m]))\n",
    "                measurements =tmp_measure\n",
    "                title_short = children[c][\"title_shortened\"]\n",
    "                quan_tmp = defaultdict(list)\n",
    "                for quan in children[c][\"quantity\"].keys():\n",
    "                    quan_tmp[quan].append(children[c][\"quantity\"][quan])\n",
    "                        \n",
    "                quantity = dict(quan_tmp)\n",
    "                pid = children[c][\"product_ids\"]\n",
    "            elif \"url\" in c:\n",
    "                link = children[c][\"link\"]\n",
    "            else:\n",
    "                price = children[c][\"price\"]\n",
    "        e_id = link.split(r\"/\")[-1].split(\"?\")[0]\n",
    "        if title != \"ELEM_MEMBER_TEXT_NONE\" and title != \"new listing\":\n",
    "            long_titles.append(title)\n",
    "            titles.append(title_short)\n",
    "            items[\"item_\"+str(e_id)] = {\"quantity\":quantity,\"measurements\":measurements,\"price\":price,\"title_short\":title_short,\"title\":title,\"link\":link,\"eid\":e_id,\"pid\":pid}\n",
    "            items_by_search[search][\"item_\"+str(e_id)] = items[\"item_\"+str(e_id)]"
   ]
  },
  {
   "cell_type": "code",
   "execution_count": 11,
   "metadata": {},
   "outputs": [],
   "source": [
    "with open(os.getcwd() + r\"\\parsed_data\\industrial_capacitors_extended_titles.txt\",\"w\", encoding='utf-8') as f:\n",
    "    for i in long_titles:\n",
    "        f.write(i.strip()+\"\\n\")"
   ]
  },
  {
   "cell_type": "code",
   "execution_count": 12,
   "metadata": {},
   "outputs": [],
   "source": [
    "with open(os.getcwd() + r\"\\parsed_data\\industrial_capacitors_extended_data.json\",\"w\", encoding='utf-8') as f:\n",
    "    f.write(json.dumps(items, indent=4, sort_keys=True))"
   ]
  },
  {
   "cell_type": "code",
   "execution_count": 24,
   "metadata": {},
   "outputs": [],
   "source": [
    "import datetime\n",
    "current_date = datetime.date.today().strftime(\"%B %d %Y\")\n",
    "path_to_date = os.path.join(os.getcwd()+r\"\\data\", current_date)\n",
    "if not os.path.isdir(path_to_date):\n",
    "    os.mkdir(path_to_date)\n",
    "items_by_search = dict(items_by_search)\n",
    "current_time = datetime.datetime.now().strftime(\"%I%M%p\")\n",
    "for i in items_by_search.keys():\n",
    "    with open(path_to_date+\"\\\\\"+current_time+\"_\"+i+\".json\",\"w\", encoding='utf-8') as f:\n",
    "        f.write(json.dumps(items_by_search[i], indent=4, sort_keys=True))"
   ]
  },
  {
   "cell_type": "code",
   "execution_count": 23,
   "metadata": {
    "scrolled": true
   },
   "outputs": [
    {
     "data": {
      "text/plain": [
       "'02:27PM'"
      ]
     },
     "execution_count": 23,
     "metadata": {},
     "output_type": "execute_result"
    }
   ],
   "source": [
    "current_time"
   ]
  },
  {
   "cell_type": "code",
   "execution_count": 9,
   "metadata": {},
   "outputs": [
    {
     "data": {
      "text/plain": [
       "dict_keys(['component_solenoids_pg1', 'component_solenoids_pg10', 'component_solenoids_pg2', 'component_solenoids_pg3', 'component_solenoids_pg4', 'component_solenoids_pg5', 'component_solenoids_pg6', 'component_solenoids_pg7', 'component_solenoids_pg8', 'component_solenoids_pg9', 'industrial_capacitors_pg1', 'industrial_capacitors_pg10', 'industrial_capacitors_pg2', 'industrial_capacitors_pg3', 'industrial_capacitors_pg4', 'industrial_capacitors_pg5', 'industrial_capacitors_pg6', 'industrial_capacitors_pg7', 'industrial_capacitors_pg8', 'industrial_capacitors_pg9', 'pushbutton_switches_round_pg1', 'pushbutton_switches_round_pg10', 'pushbutton_switches_round_pg2', 'pushbutton_switches_round_pg3', 'pushbutton_switches_round_pg4', 'pushbutton_switches_round_pg5', 'pushbutton_switches_round_pg6', 'pushbutton_switches_round_pg7', 'pushbutton_switches_round_pg8', 'pushbutton_switches_round_pg9', 'pushbutton_switches_square_pg1', 'pushbutton_switches_square_pg2', 'pushbutton_switches_square_pg3', 'pushbutton_switches_square_pg4', 'pushbutton_switches_square_pg5'])"
      ]
     },
     "execution_count": 9,
     "metadata": {},
     "output_type": "execute_result"
    }
   ],
   "source": [
    "x.keys()"
   ]
  },
  {
   "cell_type": "code",
   "execution_count": null,
   "metadata": {},
   "outputs": [],
   "source": []
  }
 ],
 "metadata": {
  "kernelspec": {
   "display_name": "Python 3",
   "language": "python",
   "name": "python3"
  },
  "language_info": {
   "codemirror_mode": {
    "name": "ipython",
    "version": 3
   },
   "file_extension": ".py",
   "mimetype": "text/x-python",
   "name": "python",
   "nbconvert_exporter": "python",
   "pygments_lexer": "ipython3",
   "version": "3.6.4"
  }
 },
 "nbformat": 4,
 "nbformat_minor": 2
}
