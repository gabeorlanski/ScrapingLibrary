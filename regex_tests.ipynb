{
 "cells": [
  {
   "cell_type": "code",
   "execution_count": 5,
   "metadata": {},
   "outputs": [],
   "source": [
    "import re\n",
    "date_regex = re.compile(r\"^(SOLD.+,\\s\\d{4})\")"
   ]
  },
  {
   "cell_type": "code",
   "execution_count": 7,
   "metadata": {},
   "outputs": [
    {
     "name": "stdout",
     "output_type": "stream",
     "text": [
      "BEFORE: SOLD  May 22, 2018100pcs/bag Ceramic Disc Capacitors 50V 100nF 0.1uF 104pF  Best ATUJ\n",
      "['SOLD  May 22, 2018']\n",
      "AFTER: 100pcs/bag Ceramic Disc Capacitors 50V 100nF 0.1uF 104pF  Best ATUJ\n",
      "BEFORE: SOLD  May 22, 201810PCS CBB 152J 2000V CBB81 1500PF 1.5NF P15 Metallized Film Capacitor\n",
      "['SOLD  May 22, 2018']\n",
      "AFTER: 10PCS CBB 152J 2000V CBB81 1500PF 1.5NF P15 Metallized Film Capacitor\n"
     ]
    }
   ],
   "source": [
    "test = [\n",
    "    \"SOLD  May 22, 2018100pcs/bag Ceramic Disc Capacitors 50V 100nF 0.1uF 104pF  Best ATUJ\",\n",
    "    \"SOLD  May 22, 201810PCS CBB 152J 2000V CBB81 1500PF 1.5NF P15 Metallized Film Capacitor\"\n",
    "]\n",
    "for title in test:\n",
    "    print(\"BEFORE: \"+title)\n",
    "    print(date_regex.findall(title))\n",
    "    title = date_regex.sub(\" \",title,1).strip()\n",
    "    print(\"AFTER: \"+title)"
   ]
  },
  {
   "cell_type": "code",
   "execution_count": 4,
   "metadata": {},
   "outputs": [
    {
     "data": {
      "text/plain": [
       "10"
      ]
     },
     "execution_count": 4,
     "metadata": {},
     "output_type": "execute_result"
    }
   ],
   "source": [
    "len(\"  May 22, \")"
   ]
  },
  {
   "cell_type": "code",
   "execution_count": null,
   "metadata": {},
   "outputs": [],
   "source": []
  }
 ],
 "metadata": {
  "kernelspec": {
   "display_name": "Python 3",
   "language": "python",
   "name": "python3"
  },
  "language_info": {
   "codemirror_mode": {
    "name": "ipython",
    "version": 3
   },
   "file_extension": ".py",
   "mimetype": "text/x-python",
   "name": "python",
   "nbconvert_exporter": "python",
   "pygments_lexer": "ipython3",
   "version": "3.6.4"
  }
 },
 "nbformat": 4,
 "nbformat_minor": 2
}
