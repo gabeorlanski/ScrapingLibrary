{
 "cells": [
  {
   "cell_type": "code",
   "execution_count": 1,
   "metadata": {},
   "outputs": [
    {
     "data": {
      "text/plain": [
       "'sold_on'"
      ]
     },
     "execution_count": 1,
     "metadata": {},
     "output_type": "execute_result"
    }
   ],
   "source": [
    "import json\n",
    "data = json.loads(open(\"test_data.json\").read())\n",
    "x = \"sold_on_1\"\n",
    "x.rpartition(\"_\")[0]"
   ]
  },
  {
   "cell_type": "code",
   "execution_count": 5,
   "metadata": {},
   "outputs": [
    {
     "data": {
      "text/plain": [
       "{'condition': {'children': {}, 'keys': [], 'text': True},\n",
       " 'format': {'children': {}, 'keys': [], 'text': True},\n",
       " 'location': {'children': {}, 'keys': [], 'text': True},\n",
       " 'price': {'children': {}, 'keys': [], 'text': True},\n",
       " 'shipping': {'children': {}, 'keys': [], 'text': True},\n",
       " 'sold_on': {'children': {}, 'keys': [], 'text': True},\n",
       " 'title': {'children': {}, 'keys': ['link'], 'text': True}}"
      ]
     },
     "execution_count": 5,
     "metadata": {},
     "output_type": "execute_result"
    }
   ],
   "source": [
    "data[\"generic_industrial_capacitors_completed_pg1\"][\"metadata\"][\"data_keys\"][\"listings\"][\"children\"]"
   ]
  },
  {
   "cell_type": "code",
   "execution_count": 4,
   "metadata": {},
   "outputs": [
    {
     "data": {
      "text/plain": [
       "dict_keys(['generic_industrial_capacitors_completed_pg1', 'generic_industrial_capacitors_completed_pg10', 'generic_industrial_capacitors_completed_pg11', 'generic_industrial_capacitors_completed_pg12', 'generic_industrial_capacitors_completed_pg13', 'generic_industrial_capacitors_completed_pg14', 'generic_industrial_capacitors_completed_pg15', 'generic_industrial_capacitors_completed_pg16', 'generic_industrial_capacitors_completed_pg17', 'generic_industrial_capacitors_completed_pg18', 'generic_industrial_capacitors_completed_pg19', 'generic_industrial_capacitors_completed_pg2', 'generic_industrial_capacitors_completed_pg20', 'generic_industrial_capacitors_completed_pg21', 'generic_industrial_capacitors_completed_pg22', 'generic_industrial_capacitors_completed_pg23', 'generic_industrial_capacitors_completed_pg24', 'generic_industrial_capacitors_completed_pg25', 'generic_industrial_capacitors_completed_pg26', 'generic_industrial_capacitors_completed_pg27', 'generic_industrial_capacitors_completed_pg28', 'generic_industrial_capacitors_completed_pg29', 'generic_industrial_capacitors_completed_pg3', 'generic_industrial_capacitors_completed_pg30', 'generic_industrial_capacitors_completed_pg31', 'generic_industrial_capacitors_completed_pg32', 'generic_industrial_capacitors_completed_pg33', 'generic_industrial_capacitors_completed_pg34', 'generic_industrial_capacitors_completed_pg35', 'generic_industrial_capacitors_completed_pg36', 'generic_industrial_capacitors_completed_pg37', 'generic_industrial_capacitors_completed_pg38', 'generic_industrial_capacitors_completed_pg39', 'generic_industrial_capacitors_completed_pg4', 'generic_industrial_capacitors_completed_pg41', 'generic_industrial_capacitors_completed_pg42', 'generic_industrial_capacitors_completed_pg43', 'generic_industrial_capacitors_completed_pg5', 'generic_industrial_capacitors_completed_pg6', 'generic_industrial_capacitors_completed_pg7', 'generic_industrial_capacitors_completed_pg8', 'generic_industrial_capacitors_completed_pg9'])"
      ]
     },
     "execution_count": 4,
     "metadata": {},
     "output_type": "execute_result"
    }
   ],
   "source": [
    "data.keys()"
   ]
  },
  {
   "cell_type": "code",
   "execution_count": null,
   "metadata": {},
   "outputs": [],
   "source": []
  }
 ],
 "metadata": {
  "kernelspec": {
   "display_name": "Python 3",
   "language": "python",
   "name": "python3"
  }
 },
 "nbformat": 4,
 "nbformat_minor": 2
}
